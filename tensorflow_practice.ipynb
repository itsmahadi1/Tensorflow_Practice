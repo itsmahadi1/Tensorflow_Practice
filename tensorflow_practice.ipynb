{
  "nbformat": 4,
  "nbformat_minor": 0,
  "metadata": {
    "colab": {
      "provenance": []
    },
    "kernelspec": {
      "name": "python3",
      "display_name": "Python 3"
    },
    "language_info": {
      "name": "python"
    }
  },
  "cells": [
    {
      "cell_type": "code",
      "execution_count": 22,
      "metadata": {
        "id": "q6h-lUE1CmvM"
      },
      "outputs": [],
      "source": [
        "import tensorflow as tf"
      ]
    },
    {
      "cell_type": "code",
      "source": [
        "a = tf.Variable(5, dtype = tf.int32)\n",
        "b = tf.Variable(10, dtype = tf.int32)"
      ],
      "metadata": {
        "id": "bT3onzSgEC0j"
      },
      "execution_count": 23,
      "outputs": []
    },
    {
      "cell_type": "code",
      "source": [
        "c = tf.add(a,b)\n",
        "c"
      ],
      "metadata": {
        "colab": {
          "base_uri": "https://localhost:8080/"
        },
        "id": "Ew2slfygEUbL",
        "outputId": "9bf1c18f-a7be-45fd-8dd9-5ea806e3755c"
      },
      "execution_count": 24,
      "outputs": [
        {
          "output_type": "execute_result",
          "data": {
            "text/plain": [
              "<tf.Tensor: shape=(), dtype=int32, numpy=15>"
            ]
          },
          "metadata": {},
          "execution_count": 24
        }
      ]
    },
    {
      "cell_type": "markdown",
      "source": [
        "Conditional Statements(Normal):"
      ],
      "metadata": {
        "id": "0x25ZfE4Flmk"
      }
    },
    {
      "cell_type": "code",
      "source": [
        "a= 10\n",
        "b = 20\n",
        "\n",
        "if a>b:\n",
        "  print(a)\n",
        "else:\n",
        "  print(b)"
      ],
      "metadata": {
        "colab": {
          "base_uri": "https://localhost:8080/"
        },
        "id": "KlcWtloCFqva",
        "outputId": "05d7bfe9-e1e1-4799-964c-3eee07ac1adb"
      },
      "execution_count": 25,
      "outputs": [
        {
          "output_type": "stream",
          "name": "stdout",
          "text": [
            "20\n"
          ]
        }
      ]
    },
    {
      "cell_type": "markdown",
      "source": [
        "Conditional Statement with Tensorflow:\n"
      ],
      "metadata": {
        "id": "IyNUjo_SF6LU"
      }
    },
    {
      "cell_type": "code",
      "source": [
        "a = tf.constant(10)\n",
        "b = tf.constant(20)\n",
        "\n",
        "def f1(): return tf.constant(a)\n",
        "def f2(): return tf.constant(b)\n",
        "\n",
        "r = tf.cond(tf.greater(a,b), f1, f2)\n",
        "\n",
        "r.numpy()"
      ],
      "metadata": {
        "colab": {
          "base_uri": "https://localhost:8080/"
        },
        "id": "XqVlhnCEF_o6",
        "outputId": "eb02acd8-61cc-46c2-e04c-abaedea16f68"
      },
      "execution_count": 26,
      "outputs": [
        {
          "output_type": "execute_result",
          "data": {
            "text/plain": [
              "np.int32(20)"
            ]
          },
          "metadata": {},
          "execution_count": 26
        }
      ]
    },
    {
      "cell_type": "markdown",
      "source": [
        "For/While Loop:"
      ],
      "metadata": {
        "id": "y6ukNjEIJIZO"
      }
    },
    {
      "cell_type": "code",
      "source": [
        "import numpy as np\n",
        "\n",
        "result = tf.Variable(np.zeros([10], dtype=np.int32))"
      ],
      "metadata": {
        "id": "jEa-kpFyJRUj"
      },
      "execution_count": 32,
      "outputs": []
    },
    {
      "cell_type": "code",
      "source": [
        "def run():\n",
        "  i = tf.constant(0, dtype=tf.int32)\n",
        "  while tf.less(i,10):\n",
        "    result[i].assign(i)\n",
        "    i += 1\n"
      ],
      "metadata": {
        "id": "zBgE4qCFJka8"
      },
      "execution_count": 33,
      "outputs": []
    },
    {
      "cell_type": "code",
      "source": [
        "run()"
      ],
      "metadata": {
        "id": "ta8ak91BKODs"
      },
      "execution_count": 34,
      "outputs": []
    },
    {
      "cell_type": "code",
      "source": [
        "result.numpy()"
      ],
      "metadata": {
        "colab": {
          "base_uri": "https://localhost:8080/"
        },
        "id": "xaDJ48TuKaLb",
        "outputId": "06799a46-f955-435b-f98b-676602698cac"
      },
      "execution_count": 35,
      "outputs": [
        {
          "output_type": "execute_result",
          "data": {
            "text/plain": [
              "array([0, 1, 2, 3, 4, 5, 6, 7, 8, 9], dtype=int32)"
            ]
          },
          "metadata": {},
          "execution_count": 35
        }
      ]
    }
  ]
}